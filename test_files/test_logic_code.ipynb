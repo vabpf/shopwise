{
 "cells": [
  {
   "cell_type": "code",
   "execution_count": 14,
   "metadata": {},
   "outputs": [
    {
     "data": {
      "text/plain": [
       "['217136590', '3748037539']"
      ]
     },
     "execution_count": 14,
     "metadata": {},
     "output_type": "execute_result"
    }
   ],
   "source": [
    "link = \"https://shopee.vn/%C4%90i%E1%BB%81u-khi%E1%BB%83n-Remote-FPT-Play-Box-2018-2019-2020-2022-SP-%C4%91%C3%A3-qua-s%E1%BB%AD-d%E1%BB%A5ng-i.217136590.3748037539?publish_id=&sp_atk=3f39c467-cd3e-49f0-a911-0237c7c64aef&xptdk=3f39c467-cd3e-49f0-a911-0237c7c64aef\"\n",
    "parts = link.split('.')\n",
    "[shopid, itemid] = parts[2], parts[3].split('?')[0]\n",
    "[shopid, itemid]"
   ]
  },
  {
   "cell_type": "code",
   "execution_count": 1,
   "metadata": {},
   "outputs": [],
   "source": [
    "import py_vncorenlp"
   ]
  },
  {
   "cell_type": "code",
   "execution_count": 2,
   "metadata": {},
   "outputs": [
    {
     "name": "stdout",
     "output_type": "stream",
     "text": [
      "Help on package py_vncorenlp:\n",
      "\n",
      "NAME\n",
      "    py_vncorenlp - # -*- coding: utf-8 -*-\n",
      "\n",
      "PACKAGE CONTENTS\n",
      "    vncorenlp\n",
      "\n",
      "CLASSES\n",
      "    builtins.object\n",
      "        py_vncorenlp.vncorenlp.VnCoreNLP\n",
      "    \n",
      "    class VnCoreNLP(builtins.object)\n",
      "     |  VnCoreNLP(max_heap_size='-Xmx2g', annotators=['wseg', 'pos', 'ner', 'parse'], save_dir='./')\n",
      "     |  \n",
      "     |  Methods defined here:\n",
      "     |  \n",
      "     |  __init__(self, max_heap_size='-Xmx2g', annotators=['wseg', 'pos', 'ner', 'parse'], save_dir='./')\n",
      "     |      Initialize self.  See help(type(self)) for accurate signature.\n",
      "     |  \n",
      "     |  annotate_file(self, input_file, output_file)\n",
      "     |  \n",
      "     |  annotate_text(self, text)\n",
      "     |  \n",
      "     |  print_out(self, dict_sentences)\n",
      "     |  \n",
      "     |  word_segment(self, text)\n",
      "     |  \n",
      "     |  ----------------------------------------------------------------------\n",
      "     |  Data descriptors defined here:\n",
      "     |  \n",
      "     |  __dict__\n",
      "     |      dictionary for instance variables (if defined)\n",
      "     |  \n",
      "     |  __weakref__\n",
      "     |      list of weak references to the object (if defined)\n",
      "\n",
      "FUNCTIONS\n",
      "    download_model(save_dir='./')\n",
      "\n",
      "DATA\n",
      "    __all__ = ['download_model', 'VnCoreNLP']\n",
      "\n",
      "VERSION\n",
      "    0.1.4\n",
      "\n",
      "FILE\n",
      "    c:\\users\\admin\\appdata\\local\\programs\\python\\python311\\lib\\site-packages\\py_vncorenlp\\__init__.py\n",
      "\n",
      "\n"
     ]
    }
   ],
   "source": [
    "help(py_vncorenlp)"
   ]
  }
 ],
 "metadata": {
  "kernelspec": {
   "display_name": "Python 3",
   "language": "python",
   "name": "python3"
  },
  "language_info": {
   "codemirror_mode": {
    "name": "ipython",
    "version": 3
   },
   "file_extension": ".py",
   "mimetype": "text/x-python",
   "name": "python",
   "nbconvert_exporter": "python",
   "pygments_lexer": "ipython3",
   "version": "3.11.3"
  }
 },
 "nbformat": 4,
 "nbformat_minor": 2
}
