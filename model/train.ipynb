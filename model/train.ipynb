{
 "cells": [
  {
   "cell_type": "markdown",
   "metadata": {
    "id": "xP-sp-vS1RTZ"
   },
   "source": [
    "### **Install and import library**"
   ]
  },
  {
   "cell_type": "code",
   "execution_count": null,
   "metadata": {
    "id": "-k8QAdlG1Zte"
   },
   "outputs": [],
   "source": [
    "import os\n",
    "import re\n",
    "import torch\n",
    "import pandas as pd\n",
    "import numpy as np\n",
    "import seaborn as sns\n",
    "import matplotlib.pyplot as plt\n",
    "from vncorenlp import VnCoreNLP\n",
    "from sklearn.metrics import f1_score, confusion_matrix, accuracy_score\n",
    "from transformers import AutoTokenizer, AutoModelForSequenceClassification, Trainer, TrainingArguments"
   ]
  },
  {
   "cell_type": "code",
   "execution_count": null,
   "metadata": {},
   "outputs": [],
   "source": [
    "from preprocessing.deemojify import deEmojify\n",
    "from preprocessing.remove_duplicates import filter_similar_reviews\n",
    "from preprocessing.remove_stopwords import filter_stop_words"
   ]
  },
  {
   "cell_type": "markdown",
   "metadata": {
    "id": "rV1Lfw2v1dCe"
   },
   "source": [
    "### **Dataset Path**"
   ]
  },
  {
   "cell_type": "code",
   "execution_count": null,
   "metadata": {
    "id": "g4rpx7Di1oBn"
   },
   "outputs": [],
   "source": [
    "DIR_ROOT = ''\n",
    "DIR_DATASET = os.path.join(DIR_ROOT, '')\n",
    "\n",
    "PATH_TRAIN = os.path.join(DIR_DATASET, 'train.csv')\n",
    "PATH_DEV = os.path.join(DIR_DATASET, 'dev.csv')\n",
    "PATH_TEST = os.path.join(DIR_DATASET, 'test.csv')\n",
    "\n",
    "MODEL_DIR = os.path.join(DIR_ROOT, 'transformer_model')\n",
    "if not os.path.exists(MODEL_DIR):\n",
    "    os.makedirs(MODEL_DIR)"
   ]
  },
  {
   "cell_type": "code",
   "execution_count": null,
   "metadata": {
    "id": "e_h3XLGLiMD4"
   },
   "outputs": [],
   "source": [
    "labels_task_1 = [\"no-spam\", \"spam\"]\n",
    "\n",
    "def show_predict_result(trainer, test_dataset, y_test, labels):\n",
    "    y_pred_classify = trainer.predict(test_dataset)\n",
    "    y_pred = np.argmax(y_pred_classify.predictions, axis=-1)\n",
    "    cf = confusion_matrix(y_test, y_pred)\n",
    "    df_cm = pd.DataFrame(cf, index = labels, columns = labels)\n",
    "    sns.heatmap(df_cm, annot=True, cmap=\"Greys\",fmt='g', cbar=True, annot_kws={\"size\": 30})\n",
    "    print(\"F1 - micro:\", f1_score(y_test, y_pred, average='micro'))\n",
    "    print(\"F1 - macro:\", f1_score(y_test, y_pred, average='macro'))\n",
    "    print(\"Accuracy:\", accuracy_score(y_test, y_pred))\n",
    "\n",
    "\n",
    "class BuildDataset(torch.utils.data.Dataset):\n",
    "    def __init__(self, encodings, labels):\n",
    "        self.encodings = encodings\n",
    "        self.labels = labels\n",
    "\n",
    "    def __getitem__(self, idx):\n",
    "        item = {key: torch.tensor(val[idx]) for key, val in self.encodings.items()}\n",
    "        item['labels'] = torch.tensor(self.labels[idx])\n",
    "        return item\n",
    "\n",
    "    def __len__(self):\n",
    "        return len(self.labels)"
   ]
  },
  {
   "cell_type": "markdown",
   "metadata": {
    "id": "egioj-qR3Gr_"
   },
   "source": [
    "### **Load data**"
   ]
  },
  {
   "cell_type": "code",
   "execution_count": null,
   "metadata": {
    "id": "lpPYELwM3In-"
   },
   "outputs": [],
   "source": [
    "train_data = pd.read_csv(PATH_TRAIN)\n",
    "X_train = train_data['comment']\n",
    "y_train = train_data[[\"label\", \"spam_label\"]]\n",
    "\n",
    "dev_data = pd.read_csv(PATH_DEV)\n",
    "X_dev = dev_data['comment']\n",
    "y_dev = dev_data[[\"label\", \"spam_label\"]]\n",
    "\n",
    "test_data = pd.read_csv(PATH_TEST)\n",
    "X_test = test_data['comment']\n",
    "y_test = test_data[[\"label\", \"spam_label\"]]"
   ]
  },
  {
   "cell_type": "code",
   "execution_count": null,
   "metadata": {
    "id": "r_RYIiqc3t4F"
   },
   "outputs": [],
   "source": [
    "vncorenlp = VnCoreNLP(\"vncorenlp/VnCoreNLP-1.1.1.jar\", annotators=\"wseg\", max_heap_size='-Xmx500m')"
   ]
  },
  {
   "cell_type": "code",
   "execution_count": null,
   "metadata": {
    "id": "DzLX_owH4G0G"
   },
   "outputs": [],
   "source": [
    "from nltk.tokenize import word_tokenize\n",
    "\n",
    "\n",
    "def preprocess(text, tokenized=True, lowercased=True):\n",
    "    # text = ViTokenizer.tokenize(text)\n",
    "    # text = ' '.join(vncorenlp.tokenize(text)[0])\n",
    "    text = filter_stop_words(text)\n",
    "    text = deEmojify(text)\n",
    "    text = text.lower() if lowercased else text\n",
    "    if tokenized:\n",
    "        pre_text = \"\"\n",
    "        sentences = vncorenlp.tokenize(text)\n",
    "        for sentence in sentences:\n",
    "            pre_text += \" \".join(sentence)\n",
    "        text = pre_text\n",
    "    return text\n",
    "\n",
    "\n",
    "def pre_process_features(X, y1, y2, tokenized=True, lowercased=True):\n",
    "    X = np.array(X)\n",
    "    y1 = np.array(y1)\n",
    "    y2 = np.array(y2)\n",
    "    X = [preprocess(str(p), tokenized=tokenized, lowercased=lowercased) for p in list(X)]\n",
    "    for idx, ele in enumerate(X):\n",
    "        if not ele:\n",
    "            np.delete(X, idx)\n",
    "            np.delete(y1, idx)\n",
    "            np.delete(y2, idx)\n",
    "    return X, y1, y2"
   ]
  },
  {
   "cell_type": "code",
   "execution_count": null,
   "metadata": {
    "id": "-H5CYpii41r_"
   },
   "outputs": [],
   "source": [
    "train_X, train_y, train_y_spam = pre_process_features(X_train, y_train['label'], y_train['spam_label'], tokenized=True, lowercased = False)\n",
    "dev_X, dev_y, dev_y_spam = pre_process_features(X_dev, y_dev['label'], y_dev['spam_label'], tokenized=True, lowercased = False)\n",
    "test_X, test_y, test_y_spam = pre_process_features(X_test, y_test['label'], y_test['spam_label'], tokenized=True, lowercased = False)"
   ]
  },
  {
   "cell_type": "markdown",
   "metadata": {
    "id": "66HBa7Yp5PaA"
   },
   "source": [
    "### **PhoBERT**"
   ]
  },
  {
   "cell_type": "code",
   "execution_count": null,
   "metadata": {
    "colab": {
     "base_uri": "https://localhost:8080/"
    },
    "id": "enMJySXW5Q1m",
    "outputId": "00886467-248d-4545-9b2b-dd67dc47fc26"
   },
   "outputs": [],
   "source": [
    "model = AutoModelForSequenceClassification.from_pretrained(\"vinai/phobert-base\")\n",
    "tokenizer = AutoTokenizer.from_pretrained(\"vinai/phobert-base\", use_fast=True)"
   ]
  },
  {
   "cell_type": "code",
   "execution_count": null,
   "metadata": {
    "colab": {
     "base_uri": "https://localhost:8080/",
     "height": 467
    },
    "id": "bn4llxl95uz-",
    "outputId": "79542f23-415d-4bb4-edfd-1632d437a53c"
   },
   "outputs": [],
   "source": [
    "train_encodings = tokenizer(train_X, truncation=True, padding=True)\n",
    "dev_encodings = tokenizer(dev_X, truncation=True, padding=True)\n",
    "test_encodings = tokenizer(test_X, truncation=True, padding=True)\n",
    "\n",
    "train_dataset = BuildDataset(train_encodings, train_y)\n",
    "dev_dataset = BuildDataset(dev_encodings, dev_y)\n",
    "test_dataset = BuildDataset(test_encodings, test_y)\n",
    "\n",
    "OUTPUT_DIR = os.path.join(MODEL_DIR, 'phobert', 'task1')\n",
    "\n",
    "training_args = TrainingArguments(\n",
    "    output_dir= OUTPUT_DIR,\n",
    "    num_train_epochs=2,\n",
    "    per_device_train_batch_size=16,\n",
    "    per_device_eval_batch_size=16,\n",
    "    warmup_steps=500,\n",
    "    weight_decay=0.01,\n",
    "    no_cuda=True,\n",
    "    do_eval=True\n",
    ")\n",
    "\n",
    "trainer = Trainer(\n",
    "    model=model,\n",
    "    args=training_args,\n",
    "    train_dataset=train_dataset,\n",
    "    eval_dataset=dev_dataset\n",
    ")\n",
    "\n",
    "trainer.train()\n",
    "trainer.save_model(OUTPUT_DIR)\n",
    "tokenizer.save_pretrained(OUTPUT_DIR)"
   ]
  },
  {
   "cell_type": "code",
   "execution_count": null,
   "metadata": {
    "colab": {
     "base_uri": "https://localhost:8080/",
     "height": 485
    },
    "id": "MJeGy2UC-07k",
    "outputId": "6aee0b89-5498-45b6-b829-d5da525afe91"
   },
   "outputs": [
    {
     "data": {
      "text/html": [],
      "text/plain": [
       "<IPython.core.display.HTML object>"
      ]
     },
     "metadata": {},
     "output_type": "display_data"
    },
    {
     "name": "stdout",
     "output_type": "stream",
     "text": [
      "F1 - micro: 0.8777050830397585\n",
      "F1 - macro: 0.835439245838616\n",
      "Accuracy: 0.8777050830397585\n"
     ]
    },
    {
     "data": {
      "image/png": "[encoded data removed]",
      "text/plain": [
       "<Figure size 640x480 with 2 Axes>"
      ]
     },
     "metadata": {},
     "output_type": "display_data"
    }
   ],
   "source": [
    "show_predict_result(trainer, test_dataset, test_y, labels_task_1)"
   ]
  },
  {
   "cell_type": "code",
   "execution_count": null,
   "metadata": {
    "id": "f4CKkYA_iEck"
   },
   "outputs": [],
   "source": []
  }
 ],
 "metadata": {
  "accelerator": "TPU",
  "colab": {
   "collapsed_sections": [
    "xP-sp-vS1RTZ",
    "rV1Lfw2v1dCe"
   ],
   "gpuType": "V28",
   "provenance": []
  },
  "kernelspec": {
   "display_name": "Python 3",
   "name": "python3"
  },
  "language_info": {
   "name": "python"
  }
 },
 "nbformat": 4,
 "nbformat_minor": 0
}
