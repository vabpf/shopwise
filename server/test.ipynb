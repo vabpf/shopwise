{
 "cells": [
  {
   "cell_type": "code",
   "execution_count": null,
   "metadata": {},
   "outputs": [],
   "source": [
    "from model.spam_filtering import spam_filtering"
   ]
  },
  {
   "cell_type": "code",
   "execution_count": null,
   "metadata": {},
   "outputs": [
    {
     "data": {
      "text/html": [
       "<div>\n",
       "<style scoped>\n",
       "    .dataframe tbody tr th:only-of-type {\n",
       "        vertical-align: middle;\n",
       "    }\n",
       "\n",
       "    .dataframe tbody tr th {\n",
       "        vertical-align: top;\n",
       "    }\n",
       "\n",
       "    .dataframe thead th {\n",
       "        text-align: right;\n",
       "    }\n",
       "</style>\n",
       "<table border=\"1\" class=\"dataframe\">\n",
       "  <thead>\n",
       "    <tr style=\"text-align: right;\">\n",
       "      <th></th>\n",
       "      <th>cmtid</th>\n",
       "      <th>itemid</th>\n",
       "      <th>rating_star</th>\n",
       "      <th>comment</th>\n",
       "      <th>modelid</th>\n",
       "      <th>model_name</th>\n",
       "      <th>filter</th>\n",
       "      <th>anonymous</th>\n",
       "      <th>origin_region</th>\n",
       "      <th>region</th>\n",
       "      <th>ctime</th>\n",
       "      <th>submit_time</th>\n",
       "    </tr>\n",
       "  </thead>\n",
       "  <tbody>\n",
       "    <tr>\n",
       "      <th>0</th>\n",
       "      <td>14900679361</td>\n",
       "      <td>22489557572</td>\n",
       "      <td>5</td>\n",
       "      <td>Giao Hàng Nhanh. Đóng Gói Đẹp.Giao Đúng Màu, Đ...</td>\n",
       "      <td>184956190808</td>\n",
       "      <td>Quai đen đế trắng,Size 43</td>\n",
       "      <td>1</td>\n",
       "      <td>False</td>\n",
       "      <td>vn</td>\n",
       "      <td>VN</td>\n",
       "      <td>1713278105</td>\n",
       "      <td>1713278105</td>\n",
       "    </tr>\n",
       "    <tr>\n",
       "      <th>1</th>\n",
       "      <td>14891685894</td>\n",
       "      <td>22489557572</td>\n",
       "      <td>5</td>\n",
       "      <td>U là trời. Ưng ý lắm luôn nha mọi người. Chất ...</td>\n",
       "      <td>184956190808</td>\n",
       "      <td>Quai đen đế trắng,Size 43</td>\n",
       "      <td>1</td>\n",
       "      <td>False</td>\n",
       "      <td>vn</td>\n",
       "      <td>VN</td>\n",
       "      <td>1713191142</td>\n",
       "      <td>1713191142</td>\n",
       "    </tr>\n",
       "  </tbody>\n",
       "</table>\n",
       "</div>"
      ],
      "text/plain": [
       "         cmtid       itemid  rating_star  \\\n",
       "0  14900679361  22489557572            5   \n",
       "1  14891685894  22489557572            5   \n",
       "\n",
       "                                             comment       modelid  \\\n",
       "0  Giao Hàng Nhanh. Đóng Gói Đẹp.Giao Đúng Màu, Đ...  184956190808   \n",
       "1  U là trời. Ưng ý lắm luôn nha mọi người. Chất ...  184956190808   \n",
       "\n",
       "                  model_name  filter  anonymous origin_region region  \\\n",
       "0  Quai đen đế trắng,Size 43       1      False            vn     VN   \n",
       "1  Quai đen đế trắng,Size 43       1      False            vn     VN   \n",
       "\n",
       "        ctime  submit_time  \n",
       "0  1713278105   1713278105  \n",
       "1  1713191142   1713191142  "
      ]
     },
     "execution_count": 2,
     "metadata": {},
     "output_type": "execute_result"
    }
   ],
   "source": [
    "import pandas as pd\n",
    "reviews = pd.read_csv(r\"./reviews_with_comment.csv\")\n",
    "reviews.head(2)"
   ]
  },
  {
   "cell_type": "code",
   "execution_count": 3,
   "metadata": {},
   "outputs": [],
   "source": [
    "comments = reviews['comment']"
   ]
  },
  {
   "cell_type": "code",
   "execution_count": 4,
   "metadata": {},
   "outputs": [],
   "source": [
    "result = spam_filtering(comments)"
   ]
  },
  {
   "cell_type": "code",
   "execution_count": 5,
   "metadata": {},
   "outputs": [
    {
     "data": {
      "text/html": [
       "<div>\n",
       "<style scoped>\n",
       "    .dataframe tbody tr th:only-of-type {\n",
       "        vertical-align: middle;\n",
       "    }\n",
       "\n",
       "    .dataframe tbody tr th {\n",
       "        vertical-align: top;\n",
       "    }\n",
       "\n",
       "    .dataframe thead th {\n",
       "        text-align: right;\n",
       "    }\n",
       "</style>\n",
       "<table border=\"1\" class=\"dataframe\">\n",
       "  <thead>\n",
       "    <tr style=\"text-align: right;\">\n",
       "      <th></th>\n",
       "      <th>Reviews</th>\n",
       "      <th>Predict</th>\n",
       "    </tr>\n",
       "  </thead>\n",
       "  <tbody>\n",
       "    <tr>\n",
       "      <th>0</th>\n",
       "      <td>Giao Hàng Nhanh. Đóng Gói Đẹp.Giao Đúng Màu, Đ...</td>\n",
       "      <td>non-spam</td>\n",
       "    </tr>\n",
       "    <tr>\n",
       "      <th>1</th>\n",
       "      <td>U là trời. Ưng ý lắm luôn nha mọi người. Chất ...</td>\n",
       "      <td>non-spam</td>\n",
       "    </tr>\n",
       "    <tr>\n",
       "      <th>2</th>\n",
       "      <td>Hàng của shop mình đã mua và sử dụng thấy rất ...</td>\n",
       "      <td>non-spam</td>\n",
       "    </tr>\n",
       "    <tr>\n",
       "      <th>3</th>\n",
       "      <td>Giá rẻ, săn sale còn rẻ hơn mà nhìu đồ, chất l...</td>\n",
       "      <td>non-spam</td>\n",
       "    </tr>\n",
       "    <tr>\n",
       "      <th>4</th>\n",
       "      <td>Shopee xưa giờ chuyên bán giá rẻ cho nên mình ...</td>\n",
       "      <td>non-spam</td>\n",
       "    </tr>\n",
       "    <tr>\n",
       "      <th>...</th>\n",
       "      <td>...</td>\n",
       "      <td>...</td>\n",
       "    </tr>\n",
       "    <tr>\n",
       "      <th>94</th>\n",
       "      <td>Tưởng giao lâu mà nhanh quá ạ, vừa chân nữ, na...</td>\n",
       "      <td>spam</td>\n",
       "    </tr>\n",
       "    <tr>\n",
       "      <th>95</th>\n",
       "      <td>Tưởng giao lâu mà nhanh quá ạ, vừa chân nữ, na...</td>\n",
       "      <td>spam</td>\n",
       "    </tr>\n",
       "    <tr>\n",
       "      <th>96</th>\n",
       "      <td>Khuyên mọi người mua tăng lên một size con thí...</td>\n",
       "      <td>spam</td>\n",
       "    </tr>\n",
       "    <tr>\n",
       "      <th>97</th>\n",
       "      <td>Thank ciuu bạn đã tin tưởng ủng hộ và để lại f...</td>\n",
       "      <td>spam</td>\n",
       "    </tr>\n",
       "    <tr>\n",
       "      <th>98</th>\n",
       "      <td>Cỡ giày dép là một chỉ thị bằng số và chữ về đ...</td>\n",
       "      <td>spam</td>\n",
       "    </tr>\n",
       "  </tbody>\n",
       "</table>\n",
       "<p>99 rows × 2 columns</p>\n",
       "</div>"
      ],
      "text/plain": [
       "                                              Reviews   Predict\n",
       "0   Giao Hàng Nhanh. Đóng Gói Đẹp.Giao Đúng Màu, Đ...  non-spam\n",
       "1   U là trời. Ưng ý lắm luôn nha mọi người. Chất ...  non-spam\n",
       "2   Hàng của shop mình đã mua và sử dụng thấy rất ...  non-spam\n",
       "3   Giá rẻ, săn sale còn rẻ hơn mà nhìu đồ, chất l...  non-spam\n",
       "4   Shopee xưa giờ chuyên bán giá rẻ cho nên mình ...  non-spam\n",
       "..                                                ...       ...\n",
       "94  Tưởng giao lâu mà nhanh quá ạ, vừa chân nữ, na...      spam\n",
       "95  Tưởng giao lâu mà nhanh quá ạ, vừa chân nữ, na...      spam\n",
       "96  Khuyên mọi người mua tăng lên một size con thí...      spam\n",
       "97  Thank ciuu bạn đã tin tưởng ủng hộ và để lại f...      spam\n",
       "98  Cỡ giày dép là một chỉ thị bằng số và chữ về đ...      spam\n",
       "\n",
       "[99 rows x 2 columns]"
      ]
     },
     "execution_count": 5,
     "metadata": {},
     "output_type": "execute_result"
    }
   ],
   "source": [
    "result"
   ]
  },
  {
   "cell_type": "code",
   "execution_count": 6,
   "metadata": {},
   "outputs": [
    {
     "data": {
      "text/plain": [
       "Predict\n",
       "non-spam    55\n",
       "spam        44\n",
       "Name: count, dtype: int64"
      ]
     },
     "execution_count": 6,
     "metadata": {},
     "output_type": "execute_result"
    }
   ],
   "source": [
    "result.Predict.value_counts()"
   ]
  },
  {
   "cell_type": "code",
   "execution_count": 9,
   "metadata": {},
   "outputs": [],
   "source": [
    "from model.summarization import summarize"
   ]
  },
  {
   "cell_type": "code",
   "execution_count": 7,
   "metadata": {},
   "outputs": [],
   "source": [
    "genuine = result[result['Predict']=='non-spam']['Reviews']"
   ]
  },
  {
   "cell_type": "code",
   "execution_count": 10,
   "metadata": {},
   "outputs": [
    {
     "data": {
      "text/plain": [
       "'<h3>Ưu điểm</h3>\\n<ul>\\n    <li>Giao hàng nhanh chóng</li>\\n    <li>Đóng gói đẹp</li>\\n    <li>Giao đúng màu, đúng size</li>\\n    <li>Chủ shop nhiệt tình</li>\\n    <li>Giá cả hợp lý</li>\\n    <li>Chất lượng tốt, da đẹp</li>\\n    <li>Thiết kế đẹp, độc đáo</li>\\n    <li>Sản phẩm êm chân</li>\\n    <li>Dép có độ bền tốt</li>\\n    <li>Shop uy tín, giao hàng nhanh</li>\\n    <li>Phục vụ khách hàng tốt</li>\\n    <li>Sản phẩm phù hợp với giá tiền</li>\\n    <li>Shop có nhiều chương trình khuyến mãi</li>\\n</ul>\\n\\n<h3>Nhược điểm</h3>\\n<ul>\\n    <li>Quai dép hơi rộng (một số trường hợp)</li>\\n    <li>Màu trắng dễ bị bẩn</li>\\n    <li>Chất liệu nhựa cứng (một số trường hợp)</li>\\n    <li>Dép hơi nặng chân (một số trường hợp)</li>\\n    <li>Mực in trên quai dép bị lem (một số trường hợp)</li>\\n</ul>\\n'"
      ]
     },
     "execution_count": 10,
     "metadata": {},
     "output_type": "execute_result"
    }
   ],
   "source": [
    "summarization = summarize(genuine)"
   ]
  },
  {
   "cell_type": "code",
   "execution_count": 11,
   "metadata": {},
   "outputs": [
    {
     "name": "stdout",
     "output_type": "stream",
     "text": [
      "'<h3>Ưu điểm</h3>\n",
      "<ul>\n",
      "    <li>Giao hàng nhanh chóng</li>\n",
      "    <li>Đóng gói đẹp</li>\n",
      "    <li>Giao đúng màu, đúng size</li>\n",
      "    <li>Chủ shop nhiệt tình</li>\n",
      "    <li>Giá cả hợp lý</li>\n",
      "    <li>Chất lượng tốt, da đẹp</li>\n",
      "    <li>Thiết kế đẹp, độc đáo</li>\n",
      "    <li>Sản phẩm êm chân</li>\n",
      "    <li>Dép có độ bền tốt</li>\n",
      "    <li>Shop uy tín, giao hàng nhanh</li>\n",
      "    <li>Phục vụ khách hàng tốt</li>\n",
      "    <li>Sản phẩm phù hợp với giá tiền</li>\n",
      "    <li>Shop có nhiều chương trình khuyến mãi</li>\n",
      "</ul>\n",
      "\n",
      "<h3>Nhược điểm</h3>\n",
      "<ul>\n",
      "    <li>Quai dép hơi rộng (một số trường hợp)</li>\n",
      "    <li>Màu trắng dễ bị bẩn</li>\n",
      "    <li>Chất liệu nhựa cứng (một số trường hợp)</li>\n",
      "    <li>Dép hơi nặng chân (một số trường hợp)</li>\n",
      "    <li>Mực in trên quai dép bị lem (một số trường hợp)</li>\n",
      "</ul>\n",
      "'\n"
     ]
    }
   ],
   "source": [
    "print(summarization)"
   ]
  }
 ],
 "metadata": {
  "kernelspec": {
   "display_name": "Python 3",
   "language": "python",
   "name": "python3"
  },
  "language_info": {
   "codemirror_mode": {
    "name": "ipython",
    "version": 3
   },
   "file_extension": ".py",
   "mimetype": "text/x-python",
   "name": "python",
   "nbconvert_exporter": "python",
   "pygments_lexer": "ipython3",
   "version": "3.11.3"
  }
 },
 "nbformat": 4,
 "nbformat_minor": 2
}
